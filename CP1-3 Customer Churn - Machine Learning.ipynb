{
 "cells": [
  {
   "cell_type": "markdown",
   "metadata": {},
   "source": [
    "<h1>Capstone Project #1</h1>\n",
    "<h2>Predicting Customer Churn</h2>\n",
    "<h3>Cliff Robbins</h3>\n",
    "\n",
    "<h3>Proposal</h3>\n",
    "<p>My project will focus on a problem that 28 million business face each day of operation, customer churn.</p>\n",
    "\n",
    "<h3>Description:</h3>\n",
    "<p><strong>Customer churn</strong>, also known as customer attrition, customer turnover or customer defection is the loss of clients or customers.  Many companies include customer churn rate as part of their monitoring metrics because the cost of retaining current customers compared to acquiring new customers is much less.  \n",
    "Within customer churn there is the concept of voluntary and involuntary churn with voluntary being a customer leaves on their own choice while involuntary could be attributed to customer relocation to a long term care facility, death or customer relocation in a different state/geography.  In most analytical models, involuntary churn is excluded from the metric.\n",
    "</p>\n",
    "\n",
    "<h3>Formulation of a Question</h3>\n",
    "<p>When a company first starts up, the founding members can typically handle all of the various customer concerns.  As the company continues to grow, the founders can no longer service all of the various clients with support handled by a customer service team.  The customer service team focuses on current issues and a proactive approach is lost.</p>\n",
    "<p>As the company grows, the company still cares about its clients; however, due to the large customer base they can no longer address each and every customer.  This is a real problem for companies.  How does a company proactively predict if a customer is happy or unhappy?  How does a company know if a customer is so unhappy that they are willing to leave?  If a company knew if a customer was getting ready to leave, could they reach out to the customer and mend the relationship?</p>\n",
    "<h3>Hypothesis</h3>\n",
    "<p>I believe past customer data can predict future customer churn. </p>\n",
    "<h3>Prediction</h3>\n",
    "<p>If I had past customer data that showed various features and whether they stayed or churned we could use that data to predict future outcomes of current customers.</p>\n",
    "<h3>Testing</h3>\n",
    "<p>To test my hypothesis, I will use a set of customer data with various features along with whether they churned or not.</p>\n",
    "<p>The data has 7043 rows and can be found at:</p>\n",
    "<p>https://www.kaggle.com/blastchar/telco-customer-churn</p>"
   ]
  },
  {
   "cell_type": "markdown",
   "metadata": {},
   "source": [
    "<h2>Machine Learning</h2>\n",
    "I will use various machine learning techniques to try and predict the correct outcome.<br>\n",
    "To predict the outcome, I will use classification techniques."
   ]
  },
  {
   "cell_type": "code",
   "execution_count": 84,
   "metadata": {},
   "outputs": [],
   "source": [
    "%matplotlib inline\n",
    "import pandas as pd\n",
    "import numpy as np\n",
    "import scipy as sp\n",
    "from sklearn.metrics import confusion_matrix\n",
    "from sklearn.model_selection import train_test_split\n",
    "from sklearn.linear_model import LogisticRegression\n",
    "from sklearn.metrics import accuracy_score\n",
    "from sklearn import preprocessing\n",
    "from sklearn.model_selection import GridSearchCV\n",
    "import sklearn.model_selection\n",
    "import seaborn as sns\n",
    "sns.set(style=\"white\")\n",
    "sns.set(style=\"whitegrid\", color_codes=True)\n",
    "\n",
    "\n",
    "def cv_optimize(clf, parameters, Xtrain, ytrain, n_folds=5):\n",
    "    gs = sklearn.model_selection.GridSearchCV(clf, param_grid=parameters, cv=n_folds)\n",
    "    gs.fit(Xtrain, ytrain)\n",
    "    print(\"BEST PARAMS\", gs.best_params_)\n",
    "    best = gs.best_estimator_\n",
    "    return best\n",
    "\n",
    "def do_classify(clf, parameters, indf, featurenames, targetname, target1val, standardize=False, train_size=0.75,test_size=0.25):\n",
    "    subdf=indf[featurenames]\n",
    "    if standardize:\n",
    "        subdfstd=(subdf - subdf.mean())/subdf.std()\n",
    "    else:\n",
    "        subdfstd=subdf\n",
    "    X=subdfstd.values\n",
    "    y=(indf[targetname].values==target1val)*1\n",
    "    Xtrain, Xtest, ytrain, ytest = train_test_split(X, y, train_size=train_size, test_size=test_size)\n",
    "    clf = cv_optimize(clf, parameters, Xtrain, ytrain)\n",
    "    clf=clf.fit(Xtrain, ytrain)\n",
    "    training_accuracy = clf.score(Xtrain, ytrain)\n",
    "    test_accuracy = clf.score(Xtest, ytest)\n",
    "    print(\"Accuracy on training data: {:0.12f}\".format(training_accuracy))\n",
    "    print(\"Accuracy on test data:     {:0.12f}\".format(test_accuracy))\n",
    "    return clf, Xtrain, ytrain, Xtest, ytest"
   ]
  },
  {
   "cell_type": "markdown",
   "metadata": {},
   "source": [
    "<h2>Import the data from our previous notebook</h2>"
   ]
  },
  {
   "cell_type": "code",
   "execution_count": 85,
   "metadata": {},
   "outputs": [
    {
     "name": "stdout",
     "output_type": "stream",
     "text": [
      "<class 'pandas.core.frame.DataFrame'>\n",
      "Index: 7043 entries, 7590-VHVEG to 3186-AJIEK\n",
      "Data columns (total 8 columns):\n",
      "SeniorCitizen       7043 non-null category\n",
      "Partner             7043 non-null category\n",
      "Dependents          7043 non-null category\n",
      "InternetService     7043 non-null category\n",
      "Contract            7043 non-null category\n",
      "PaperlessBilling    7043 non-null category\n",
      "PaymentMethod       7043 non-null category\n",
      "Churn               7043 non-null category\n",
      "dtypes: category(8)\n",
      "memory usage: 110.9+ KB\n",
      "None\n"
     ]
    }
   ],
   "source": [
    "#Lets import the data\n",
    "customer_churn_df = pd.read_hdf('data/cp1-2-assigned-data.hdf5',key='cleaned_data',mode='r')\n",
    "\n",
    "#Validate it was read\n",
    "print(customer_churn_df.info())"
   ]
  },
  {
   "cell_type": "markdown",
   "metadata": {},
   "source": [
    "<h2>Convert string to numerical</h2>\n",
    "The fit method requires a numerical number versus a string."
   ]
  },
  {
   "cell_type": "code",
   "execution_count": 86,
   "metadata": {},
   "outputs": [
    {
     "name": "stdout",
     "output_type": "stream",
     "text": [
      "<class 'pandas.core.frame.DataFrame'>\n",
      "Index: 7043 entries, 7590-VHVEG to 3186-AJIEK\n",
      "Data columns (total 8 columns):\n",
      "SeniorCitizen       7043 non-null int64\n",
      "Partner             7043 non-null int64\n",
      "Dependents          7043 non-null int64\n",
      "InternetService     7043 non-null int64\n",
      "Contract            7043 non-null int64\n",
      "PaperlessBilling    7043 non-null int64\n",
      "PaymentMethod       7043 non-null int64\n",
      "Churn               7043 non-null int64\n",
      "dtypes: int64(8)\n",
      "memory usage: 495.2+ KB\n",
      "None\n",
      "            SeniorCitizen  Partner  Dependents  InternetService  Contract  PaperlessBilling  PaymentMethod  Churn\n",
      "customerID                                                                                                       \n",
      "7590-VHVEG              0        1           0                0         0                 1              2      0\n",
      "5575-GNVDE              0        0           0                0         1                 0              3      0\n",
      "3668-QPYBK              0        0           0                0         0                 1              3      1\n",
      "7795-CFOCW              0        0           0                0         1                 0              0      0\n",
      "9237-HQITU              0        0           0                1         0                 1              2      1\n"
     ]
    }
   ],
   "source": [
    "for column in customer_churn_df.columns:\n",
    "    if customer_churn_df[column].dtype == 'category':\n",
    "        le = preprocessing.LabelEncoder()\n",
    "        customer_churn_df[column] = le.fit_transform(customer_churn_df[column])\n",
    "        \n",
    "print(customer_churn_df.info())\n",
    "print(customer_churn_df.head())"
   ]
  },
  {
   "cell_type": "markdown",
   "metadata": {},
   "source": [
    "<h2>Training and Test Datasets</h2>\n",
    "I start with a basic Logistic Regression with L1 and L2 optimization.<br>\n",
    "I will split with a 75/25 split for test and training datasets."
   ]
  },
  {
   "cell_type": "code",
   "execution_count": 109,
   "metadata": {},
   "outputs": [
    {
     "name": "stdout",
     "output_type": "stream",
     "text": [
      "Best Params l1::  {'C': 0.1}\n",
      "Best Params l2::  {'C': 0.01}\n",
      "\n",
      "Accuracy of l1::  0.747870528109029\n",
      "Accuracy of l2::  0.747870528109029\n",
      "\n",
      "Accuracy of l1 w/C Param::  0.7535491198182851\n",
      "Accuracy of l2 w/C Param::  0.7438955139125497\n",
      "\n",
      "Accuracy of logistic regression classifier on test set: 0.75\n",
      "Accuracy of logistic regression classifier on test set: 0.74\n"
     ]
    }
   ],
   "source": [
    "features = ['SeniorCitizen','Partner','Dependents','InternetService','Contract','PaperlessBilling','PaymentMethod']\n",
    "parameters = {'C':[0.001,0.01, 0.1, 1, 10, 100]}\n",
    "\n",
    "# Split the data into a training and test set.\n",
    "Xlr, Xtestlr, ylr, ytestlr = train_test_split(customer_churn_df[features].values, \n",
    "                                              (customer_churn_df.Churn == 1).values,random_state=5,stratify=(customer_churn_df.Churn == 1).values)\n",
    "\n",
    "clf_l1 = LogisticRegression(penalty='l1')\n",
    "clf_l1.fit(Xlr,ylr)\n",
    "\n",
    "clf_l2 = LogisticRegression(penalty='l2')\n",
    "clf_l2.fit(Xlr,ylr)\n",
    "\n",
    "# Fit the model on the trainng data.\n",
    "gs_l1 = sklearn.model_selection.GridSearchCV(clf_l1, param_grid=parameters, cv=5,refit=True)\n",
    "gs_l1.fit(Xlr, ylr)\n",
    "y_pred_l1 = gs_l1.predict(Xtestlr)\n",
    "print(\"Best Params l1:: \", gs_l1.best_params_)\n",
    "\n",
    "gs_l2 = sklearn.model_selection.GridSearchCV(clf_l2, param_grid=parameters, cv=5,refit=True)\n",
    "gs_l2.fit(Xlr, ylr)\n",
    "y_pred_l2 = gs_l2.predict(Xtestlr)\n",
    "\n",
    "print(\"Best Params l2:: \", gs_l2.best_params_)\n",
    "print()\n",
    "# Print the accuracy from the testing data.\n",
    "print('Accuracy of l1:: ',accuracy_score(clf_l1.predict(Xtestlr), ytestlr))\n",
    "print('Accuracy of l2:: ',accuracy_score(clf_l2.predict(Xtestlr), ytestlr))\n",
    "print()\n",
    "print('Accuracy of l1 w/C Param:: ',accuracy_score(gs_l1.predict(Xtestlr), ytestlr))\n",
    "print('Accuracy of l2 w/C Param:: ',accuracy_score(gs_l2.predict(Xtestlr), ytestlr))\n",
    "print()\n",
    "print('Accuracy of logistic regression classifier on test set: {:.2f}'.format(gs_l1.score(Xtestlr, ytestlr)))\n",
    "print('Accuracy of logistic regression classifier on test set: {:.2f}'.format(gs_l2.score(Xtestlr, ytestlr)))"
   ]
  },
  {
   "cell_type": "markdown",
   "metadata": {},
   "source": [
    "<h2>Additional Parameter Testing</h2>\n",
    "Now I'll do additional testing against the training and test data."
   ]
  },
  {
   "cell_type": "code",
   "execution_count": 110,
   "metadata": {},
   "outputs": [
    {
     "name": "stdout",
     "output_type": "stream",
     "text": [
      "Logistic Regression with L1\n",
      "BEST PARAMS {'C': 0.1}\n",
      "Accuracy on training data: 0.751419916698\n",
      "Accuracy on test data:     0.743327654742\n",
      "\n",
      "Logistic Regression with L2\n",
      "BEST PARAMS {'C': 0.01}\n",
      "Accuracy on training data: 0.751041272245\n",
      "Accuracy on test data:     0.733674048836\n"
     ]
    }
   ],
   "source": [
    "#Lets test to see if we have the best parameters\n",
    "print('Logistic Regression with L1')\n",
    "clf_l, Xtrain_l, ytrain_l, Xtest_l, ytest_l  = do_classify(LogisticRegression(penalty='l1'), \n",
    "                                                           {\"C\": [0.001,0.01, 0.1, 1, 10, 100]}, \n",
    "                                                           customer_churn_df, features, 'Churn',1)\n",
    "print()\n",
    "print('Logistic Regression with L2')\n",
    "clf_2, Xtrain_2, ytrain_2, Xtest_2, ytest_2  = do_classify(LogisticRegression(penalty='l2'), \n",
    "                                                           {\"C\": [0.001,0.01, 0.1, 1, 10, 100]}, \n",
    "                                                           customer_churn_df, features, 'Churn',1)"
   ]
  },
  {
   "cell_type": "markdown",
   "metadata": {},
   "source": [
    "<h2>Confusion Matrix</h2>\n",
    "The ideal scenario that we all want is that the model should give 0 False Positives and 0 False Negatives. But that’s not the case in real life as any model will NOT be 100% accurate most of the times.<br>\n",
    "<strong>1. True Positives (TP):</strong> True positives are the cases when the actual class of the data point was 1(True) and the predicted is also 1(True)<br>\n",
    "<strong>2.  True Negatives (TN):</strong> True negatives are the cases when the actual class of the data point was 0(False) and the predicted is also 0(False)<br>\n",
    "<strong>3.  False Positives (FP):</strong> False positives are the cases when the actual class of the data point was 0(False) and the predicted is 1(True). False is because the model has predicted incorrectly and positive because the class predicted was a positive one. (1)<br>\n",
    "<strong>4.  False Negatives (FN):</strong> False negatives are the cases when the actual class of the data point was 1(True) and the predicted is 0(False). False is because the model has predicted incorrectly and negative because the class predicted was a negative one. (0)<br><br>\n",
    "https://scikit-learn.org/stable/modules/generated/sklearn.metrics.confusion_matrix.html<br>\n",
    "https://medium.com/greyatom/performance-metrics-for-classification-problems-in-machine-learning-part-i-b085d432082b\n"
   ]
  },
  {
   "cell_type": "code",
   "execution_count": 111,
   "metadata": {},
   "outputs": [
    {
     "name": "stdout",
     "output_type": "stream",
     "text": [
      "                  l1 Confusion Matrix\n",
      "\n",
      "                            Actual        \n",
      "                    Positives     Negatives\n",
      "                     ----------+-----------\n",
      "Predicted\n",
      "          Positives    (TP)89     (FP)56\n",
      "                     ----------+-----------)\n",
      "\n",
      "          Negatives    (FN)378    (TN)1238\n",
      "\n",
      "                     ----------+-----------)\n",
      "\n",
      "\n",
      "                  l2 Confusion Matrix\n",
      "\n",
      "                            Actual        \n",
      "                    Positives     Negatives\n",
      "                     ----------+-----------\n",
      "Predicted\n",
      "          Positives    (TP)50     (FP)34\n",
      "                     ----------+-----------)\n",
      "\n",
      "          Negatives    (FN)417    (TN)1260\n",
      "\n",
      "                     ----------+-----------)\n"
     ]
    }
   ],
   "source": [
    "confusion_matrix_l1 = confusion_matrix(ytestlr, y_pred_l1)\n",
    "confusion_matrix_l2 = confusion_matrix(ytestlr, y_pred_l2)\n",
    "# ref https://scikit-learn.org/stable/modules/generated/sklearn.metrics.confusion_matrix.html\n",
    "\n",
    "print('                  l1 Confusion Matrix')\n",
    "print('')\n",
    "print('                            Actual        ')\n",
    "print('                    Positives     Negatives')\n",
    "print('                     ----------+-----------')\n",
    "print('Predicted')\n",
    "print('          Positives    (TP)'+str(confusion_matrix_l1[1][1])+'     (FP)'+str(confusion_matrix_l1[0][1]))\n",
    "print('                     ----------+-----------)')\n",
    "print('')\n",
    "print('          Negatives    (FN)'+str(confusion_matrix_l1[1][0])+'    (TN)'+str(confusion_matrix_l1[0][0]))\n",
    "print('')\n",
    "print('                     ----------+-----------)')\n",
    "print('')\n",
    "print('')\n",
    "print('                  l2 Confusion Matrix')\n",
    "print('')\n",
    "print('                            Actual        ')\n",
    "print('                    Positives     Negatives')\n",
    "print('                     ----------+-----------')\n",
    "print('Predicted')\n",
    "print('          Positives    (TP)'+str(confusion_matrix_l2[1][1])+'     (FP)'+str(confusion_matrix_l2[0][1]))\n",
    "print('                     ----------+-----------)')\n",
    "print('')\n",
    "print('          Negatives    (FN)'+str(confusion_matrix_l2[1][0])+'    (TN)'+str(confusion_matrix_l2[0][0]))\n",
    "print('')\n",
    "print('                     ----------+-----------)')\n",
    "\n"
   ]
  },
  {
   "cell_type": "markdown",
   "metadata": {},
   "source": [
    "Because of the nature of the project, trying to predict customer churn, we would want to minimize False Negatives (FN) because our goal is to find ways to keep those that might churn.  That means we may provide additional incentives to those that are likely to stay anyway."
   ]
  },
  {
   "cell_type": "markdown",
   "metadata": {},
   "source": [
    "<h2>Accuracy</h2><br>\n",
    "<strong>Precision</strong> is a measure that tells us what proportion of customers that we predicted as churning, actually churned. The predicted positives (People predicted as churned are TP and FP) and the people actually churned are TP.<br>\n",
    "<strong>Recall</strong> is a measure that tells us what proportion of customers that actually churned was predicted by the algorithm as churned.<br>\n",
    "<strong>F1 Score</strong>  We don’t really want to carry both Precision and Recall in our pockets every time we make a model for solving a classification problem. So it’s best if we can get a single score that kind of represents both Precision(P) and Recall(R).<br>\n",
    "One way to do that is simply taking their arithmetic mean. i.e (P + R) / 2 where P is Precision and R is Recall.\n",
    "<h3>When to use Precison and when to use Recall?</h3>\n",
    "It is clear that recall gives us information about a classifier’s performance with respect to false negatives (how many did we miss), while precision gives us information about its performance with respect to false positives(how many did we caught).<br>\n",
    "<strong>Precision</strong> is about being precise. So even if we managed to capture only one churn, and we captured it correctly, then we are 100% precise.<br>\n",
    "<strong>Recall</strong> is not so much about capturing customers correctly but more about capturing all customers that have churned with the answer as churn. So if we simply always say every customer as churned, we have 100% recall.<br><br>\n",
    "So basically if we want to focus more on minimising False Negatives, we would want our Recall to be as close to 100% as possible without precision being too bad and if we want to focus on minimising False positives, then our focus should be to make Precision as close to 100% as possible.\n",
    "<br><br>\n",
    "https://medium.com/greyatom/performance-metrics-for-classification-problems-in-machine-learning-part-i-b085d432082b"
   ]
  },
  {
   "cell_type": "code",
   "execution_count": 112,
   "metadata": {},
   "outputs": [
    {
     "name": "stdout",
     "output_type": "stream",
     "text": [
      "l1 Training Classification Report:\n",
      "             precision    recall  f1-score   support\n",
      "\n",
      "      False       0.74      0.74      0.74      3880\n",
      "       True       0.27      0.27      0.27      1402\n",
      "\n",
      "avg / total       0.61      0.61      0.61      5282\n",
      "\n",
      "\n",
      "\n",
      "l1 Test Classification Report:\n",
      "             precision    recall  f1-score   support\n",
      "\n",
      "      False       0.73      0.73      0.73      1294\n",
      "       True       0.24      0.24      0.24       467\n",
      "\n",
      "avg / total       0.60      0.60      0.60      1761\n",
      "\n",
      "\n",
      "\n",
      "\n",
      "\n",
      "l2 Training Classification Report:\n",
      "             precision    recall  f1-score   support\n",
      "\n",
      "      False       0.74      0.74      0.74      3880\n",
      "       True       0.27      0.27      0.27      1402\n",
      "\n",
      "avg / total       0.61      0.61      0.61      5282\n",
      "\n",
      "\n",
      "\n",
      "l2 Test Classification Report:\n",
      "             precision    recall  f1-score   support\n",
      "\n",
      "      False       0.73      0.72      0.73      1294\n",
      "       True       0.26      0.27      0.27       467\n",
      "\n",
      "avg / total       0.61      0.60      0.61      1761\n",
      "\n"
     ]
    }
   ],
   "source": [
    "from sklearn.metrics import classification_report\n",
    "# ref: http://scikit-learn.org/stable/modules/generated/sklearn.metrics.classification_report.html#sklearn.metrics.classification_report\n",
    "\n",
    "print(\"l1 Training Classification Report:\")\n",
    "print(classification_report(ylr, ytrain_l))\n",
    "print('\\n')\n",
    "print(\"l1 Test Classification Report:\")\n",
    "print(classification_report(ytestlr, ytest_l))\n",
    "print('\\n')\n",
    "print('\\n')\n",
    "print(\"l2 Training Classification Report:\")\n",
    "print(classification_report(ylr, ytrain_2))\n",
    "print('\\n')\n",
    "print(\"l2 Test Classification Report:\")\n",
    "print(classification_report(ytestlr, ytest_2))"
   ]
  },
  {
   "cell_type": "markdown",
   "metadata": {},
   "source": [
    "From what we can see, the training performance metrics are slightly better than the test counterpart.  However, we can make note that the prediction for False has a higher accuracy than True."
   ]
  },
  {
   "cell_type": "markdown",
   "metadata": {},
   "source": [
    "<h2>ROC Curve</h2>\n",
    "The receiver operating characteristic (ROC) curve is another common tool used with binary classifiers. The dotted line represents the ROC curve of a purely random classifier; a good classifier stays as far away from that line as possible (toward the top-left corner).<br>\n",
    "This is based on: https://towardsdatascience.com/building-a-logistic-regression-in-python-step-by-step-becd4d56c9c8"
   ]
  },
  {
   "cell_type": "code",
   "execution_count": 113,
   "metadata": {},
   "outputs": [
    {
     "data": {
      "image/png": "[encoded data removed]",
      "text/plain": [
       "<Figure size 432x288 with 1 Axes>"
      ]
     },
     "metadata": {},
     "output_type": "display_data"
    }
   ],
   "source": [
    "from sklearn.metrics import roc_auc_score\n",
    "from sklearn.metrics import roc_curve\n",
    "logit_roc_auc = roc_auc_score(ytestlr, gs_l1.predict(Xtestlr))\n",
    "fpr, tpr, thresholds = roc_curve(ytestlr, gs_l1.predict_proba(Xtestlr)[:,1])\n",
    "plt.figure()\n",
    "plt.plot(fpr, tpr, label='Logistic Regression (area = %0.2f)' % logit_roc_auc)\n",
    "plt.plot([0, 1], [0, 1],'r--')\n",
    "plt.xlim([0.0, 1.0])\n",
    "plt.ylim([0.0, 1.05])\n",
    "plt.xlabel('False Positive Rate')\n",
    "plt.ylabel('True Positive Rate')\n",
    "plt.title('Receiver operating characteristic l1')\n",
    "plt.legend(loc=\"lower right\")\n",
    "plt.savefig('Log_ROC')\n",
    "plt.show()"
   ]
  },
  {
   "cell_type": "code",
   "execution_count": 114,
   "metadata": {},
   "outputs": [
    {
     "data": {
      "image/png": "[encoded data removed]",
      "text/plain": [
       "<Figure size 432x288 with 1 Axes>"
      ]
     },
     "metadata": {},
     "output_type": "display_data"
    }
   ],
   "source": [
    "from sklearn.metrics import roc_auc_score\n",
    "from sklearn.metrics import roc_curve\n",
    "logit_roc_auc = roc_auc_score(ytestlr, gs_l2.predict(Xtestlr))\n",
    "fpr, tpr, thresholds = roc_curve(ytestlr, gs_l2.predict_proba(Xtestlr)[:,1])\n",
    "plt.figure()\n",
    "plt.plot(fpr, tpr, label='Logistic Regression (area = %0.2f)' % logit_roc_auc)\n",
    "plt.plot([0, 1], [0, 1],'r--')\n",
    "plt.xlim([0.0, 1.0])\n",
    "plt.ylim([0.0, 1.05])\n",
    "plt.xlabel('False Positive Rate')\n",
    "plt.ylabel('True Positive Rate')\n",
    "plt.title('Receiver operating characteristic l2')\n",
    "plt.legend(loc=\"lower right\")\n",
    "plt.savefig('Log_ROC')\n",
    "plt.show()"
   ]
  },
  {
   "cell_type": "markdown",
   "metadata": {},
   "source": [
    "<h2>Analysis</h2><br>\n",
    "This analysis used a basic logistic regression with l1 and l2 optimization as the baseline model.<br>\n",
    "The accuracy score for the l1 is slightly better than with l2 optimization.<br><br>\n",
    "Logistic Regression with L1<br>\n",
    "Accuracy Score on training data: 0.751798561151<br>\n",
    "Accuracy Score on test data:     0.741624077229<br>\n",
    "<br>\n",
    "Logistic Regression with L2<br>\n",
    "Accuracy Score on training data: 0.744793638773<br>\n",
    "Accuracy Score on test data:     0.749574105622<br>\n",
    "<br>\n",
    "With both l1 and l2, we can see that the model fits the training and test data.  The fit of the test data is slightly less accurate than the training data as we would expect.<br>\n",
    "<br>\n",
    "When we compare classification reports, the data shows that the model fits well for the False and fits less for the True.  The overall accuracy, recall and F1 scores are roughly 0.61.<br>\n",
    "\n",
    "<table style=\"width:100%\">\n",
    "    <caption>l1 Training Classification Report:</caption>\n",
    "  <tr>\n",
    "      <th>Label</th>\n",
    "    <th>precision</th>\n",
    "    <th>recall</th> \n",
    "    <th>f1-score</th>\n",
    "  </tr>\n",
    "  <tr>\n",
    "      <td>False</td>\n",
    "    <td>0.73</td>\n",
    "    <td>0.73</td> \n",
    "    <td>0.73</td>\n",
    "  </tr>\n",
    "  <tr>\n",
    "      <td>True</td>\n",
    "    <td>0.26</td>\n",
    "    <td>0.26</td> \n",
    "    <td>0.26</td>\n",
    "  </tr>\n",
    "    \n",
    "  <tr>\n",
    "      <td>avg / total</td>\n",
    "    <td>0.61</td>\n",
    "    <td>0.61</td> \n",
    "    <td>0.61</td>\n",
    "  </tr>\n",
    "</table>\n",
    "\n",
    "<br>\n",
    "<table style=\"width:100%\">\n",
    "    <caption>l2 Training Classification Report:</caption>\n",
    "  <tr>\n",
    "      <th>Label</th>\n",
    "    <th>precision</th>\n",
    "    <th>recall</th> \n",
    "    <th>f1-score</th>\n",
    "  </tr>\n",
    "  <tr>\n",
    "      <td>False</td>\n",
    "    <td>0.74</td>\n",
    "    <td>0.73</td> \n",
    "    <td>0.73</td>\n",
    "  </tr>\n",
    "  <tr>\n",
    "      <td>True</td>\n",
    "    <td>0.26</td>\n",
    "    <td>0.27</td> \n",
    "    <td>0.27</td>\n",
    "  </tr>\n",
    "    \n",
    "  <tr>\n",
    "      <td>avg / total</td>\n",
    "    <td>0.61</td>\n",
    "    <td>0.61</td> \n",
    "    <td>0.61</td>\n",
    "  </tr>\n",
    "</table>\n",
    "\n",
    "\n",
    "Overall, the model has a adequate accuracy score of 0.75 with precision, recall and F1 scores of 0.61.  The model performance could get improved to provide a higher accuracy score and an improved classification report.\n"
   ]
  },
  {
   "cell_type": "code",
   "execution_count": null,
   "metadata": {},
   "outputs": [],
   "source": []
  }
 ],
 "metadata": {
  "kernelspec": {
   "display_name": "Python 3",
   "language": "python",
   "name": "python3"
  },
  "language_info": {
   "codemirror_mode": {
    "name": "ipython",
    "version": 3
   },
   "file_extension": ".py",
   "mimetype": "text/x-python",
   "name": "python",
   "nbconvert_exporter": "python",
   "pygments_lexer": "ipython3",
   "version": "3.6.5"
  }
 },
 "nbformat": 4,
 "nbformat_minor": 2
}
